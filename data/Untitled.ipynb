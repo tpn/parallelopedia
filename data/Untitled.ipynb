{
 "cells": [
  {
   "cell_type": "code",
   "execution_count": 15,
   "id": "5d99a53f-7731-45b4-9b49-c2a4fbf271e1",
   "metadata": {},
   "outputs": [],
   "source": [
    "import os\n",
    "import mmap\n",
    "import numpy as np"
   ]
  },
  {
   "cell_type": "code",
   "execution_count": 5,
   "id": "4d8b38cd-0546-45a7-995e-348d6c73cdb3",
   "metadata": {},
   "outputs": [],
   "source": [
    "WIKI_XML_PATH = 'enwiki-20150205-pages-articles.xml'\n",
    "WIKI_XML_FILE = open(WIKI_XML_PATH, 'rb')\n",
    "WIKI_XML_STAT = os.fstat(WIKI_XML_FILE.fileno())\n",
    "WIKI_XML_SIZE = WIKI_XML_STAT.st_size\n",
    "WIKI_XML_MMAP = mmap.mmap(\n",
    "    WIKI_XML_FILE.fileno(),\n",
    "    length=0,\n",
    "    flags=mmap.MAP_SHARED,\n",
    "    prot=mmap.PROT_READ,\n",
    "    offset=0,\n",
    ")\n",
    "try:\n",
    "    WIKI_XML_MMAP.madvise(mmap.MADV_RANDOM)\n",
    "except AttributeError:\n",
    "    # Ignore if madvise is not available.\n",
    "    pass\n",
    "\n"
   ]
  },
  {
   "cell_type": "code",
   "execution_count": 16,
   "id": "50d23744-7a61-44ef-818c-ca56f19d00bf",
   "metadata": {},
   "outputs": [],
   "source": [
    "TITLE_OFFSETS = np.load('titles_offsets.npy')\n",
    "offsets = TITLE_OFFSETS"
   ]
  },
  {
   "cell_type": "code",
   "execution_count": 6,
   "id": "3def68fd-26cb-4dc6-b0f7-89289106778d",
   "metadata": {},
   "outputs": [],
   "source": [
    "xml = WIKI_XML_MMAP"
   ]
  },
  {
   "cell_type": "code",
   "execution_count": 9,
   "id": "b617d96a-da5a-466f-b678-6a2f8332c36b",
   "metadata": {},
   "outputs": [],
   "source": [
    "s = xml[33919833364:33919833364+50].decode('utf-8')"
   ]
  },
  {
   "cell_type": "code",
   "execution_count": 10,
   "id": "8e8b38d1-7699-4860-8604-e1cf7d882e19",
   "metadata": {},
   "outputs": [
    {
     "data": {
      "text/plain": [
       "'    <title>Python</title>\\n    <ns>0</ns>\\n    <id>2'"
      ]
     },
     "execution_count": 10,
     "metadata": {},
     "output_type": "execute_result"
    }
   ],
   "source": [
    "s"
   ]
  },
  {
   "cell_type": "code",
   "execution_count": 22,
   "id": "b33c407f-d472-441e-ae84-49f88bcb1ad3",
   "metadata": {},
   "outputs": [],
   "source": [
    "o = 33919833364"
   ]
  },
  {
   "cell_type": "code",
   "execution_count": 18,
   "id": "faeef789-8183-4bde-9247-ad576b118f2e",
   "metadata": {},
   "outputs": [
    {
     "data": {
      "text/plain": [
       "np.int64(9202273)"
      ]
     },
     "execution_count": 18,
     "metadata": {},
     "output_type": "execute_result"
    }
   ],
   "source": [
    "ix = offsets.searchsorted(o, side='right')\n",
    "ix"
   ]
  },
  {
   "cell_type": "code",
   "execution_count": 20,
   "id": "6b9ac6c8-5dd6-4ec0-bece-045b84e5be41",
   "metadata": {},
   "outputs": [
    {
     "data": {
      "text/plain": [
       "np.uint64(33919835762)"
      ]
     },
     "execution_count": 20,
     "metadata": {},
     "output_type": "execute_result"
    }
   ],
   "source": [
    "y = offsets[ix]\n",
    "y"
   ]
  },
  {
   "cell_type": "code",
   "execution_count": 34,
   "id": "7aff682b-f568-4bbc-bdf1-8afdf14eebb4",
   "metadata": {},
   "outputs": [],
   "source": [
    "start = int(o - 7)\n",
    "end = int(offsets[ix] - 10)"
   ]
  },
  {
   "cell_type": "code",
   "execution_count": 32,
   "id": "2efed9e1-7701-4c93-bbc2-6196d377326a",
   "metadata": {},
   "outputs": [
    {
     "data": {
      "text/plain": [
       "(b'/page>\\n  <page>\\n', b'    <title')"
      ]
     },
     "execution_count": 32,
     "metadata": {},
     "output_type": "execute_result"
    }
   ],
   "source": [
    "xml[y-16:y], xml[y:y+10]"
   ]
  },
  {
   "cell_type": "code",
   "execution_count": 33,
   "id": "6a1d87f1-d63d-4865-8288-259f452247e5",
   "metadata": {},
   "outputs": [
    {
     "data": {
      "text/plain": [
       "10"
      ]
     },
     "execution_count": 33,
     "metadata": {},
     "output_type": "execute_result"
    }
   ],
   "source": [
    "len('\\n  <page>\\n')"
   ]
  },
  {
   "cell_type": "code",
   "execution_count": 24,
   "id": "836e7644-bcdf-4810-9b33-f5d1663db915",
   "metadata": {},
   "outputs": [
    {
     "data": {
      "text/plain": [
       "(33919833357, 33919835751)"
      ]
     },
     "execution_count": 24,
     "metadata": {},
     "output_type": "execute_result"
    }
   ],
   "source": [
    "start, end"
   ]
  },
  {
   "cell_type": "code",
   "execution_count": 36,
   "id": "bf719eb6-1675-48ae-93e1-0c6c9de99f66",
   "metadata": {},
   "outputs": [],
   "source": [
    "page = xml[start:end]"
   ]
  },
  {
   "cell_type": "code",
   "execution_count": 40,
   "id": "fe6e5a48-de7d-4564-a23f-f087de5b65be",
   "metadata": {},
   "outputs": [
    {
     "name": "stdout",
     "output_type": "stream",
     "text": [
      "b'<page>\\n    <title>Python</title>\\n'\n",
      "...\n",
      "b'/revision>\\n  </page>'\n"
     ]
    }
   ],
   "source": [
    "print(page[:33])\n",
    "print('...')\n",
    "print(page[-20:])"
   ]
  },
  {
   "cell_type": "code",
   "execution_count": 26,
   "id": "10a8a3f6-042c-44dd-b3a3-a2a46bbe6326",
   "metadata": {},
   "outputs": [
    {
     "data": {
      "text/plain": [
       "18"
      ]
     },
     "execution_count": 26,
     "metadata": {},
     "output_type": "execute_result"
    }
   ],
   "source": [
    "len('<page>\\n    <title>')\n"
   ]
  },
  {
   "cell_type": "code",
   "execution_count": 27,
   "id": "a499ed98-3074-44d4-9fcd-a189ea8bb474",
   "metadata": {},
   "outputs": [
    {
     "data": {
      "text/plain": [
       "7"
      ]
     },
     "execution_count": 27,
     "metadata": {},
     "output_type": "execute_result"
    }
   ],
   "source": [
    "len('<page>\\n')"
   ]
  },
  {
   "cell_type": "code",
   "execution_count": 11,
   "id": "1ef4233d-2f52-43b8-b5d8-2ef800a24091",
   "metadata": {},
   "outputs": [
    {
     "data": {
      "text/plain": [
       "4"
      ]
     },
     "execution_count": 11,
     "metadata": {},
     "output_type": "execute_result"
    }
   ],
   "source": [
    "s.find('<')"
   ]
  },
  {
   "cell_type": "code",
   "execution_count": 12,
   "id": "2a3c10de-0e72-4055-9e7e-ae86ba3f14ee",
   "metadata": {},
   "outputs": [
    {
     "data": {
      "text/plain": [
       "11"
      ]
     },
     "execution_count": 12,
     "metadata": {},
     "output_type": "execute_result"
    }
   ],
   "source": [
    "4 + len('<title>')"
   ]
  },
  {
   "cell_type": "code",
   "execution_count": null,
   "id": "77fd1e89-e0e5-4451-b4a7-09d0973f5ef7",
   "metadata": {},
   "outputs": [],
   "source": []
  }
 ],
 "metadata": {
  "kernelspec": {
   "display_name": "Python 3 (ipykernel)",
   "language": "python",
   "name": "python3"
  },
  "language_info": {
   "codemirror_mode": {
    "name": "ipython",
    "version": 3
   },
   "file_extension": ".py",
   "mimetype": "text/x-python",
   "name": "python",
   "nbconvert_exporter": "python",
   "pygments_lexer": "ipython3",
   "version": "3.13.1"
  }
 },
 "nbformat": 4,
 "nbformat_minor": 5
}
