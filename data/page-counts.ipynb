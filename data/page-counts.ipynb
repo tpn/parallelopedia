{
 "cells": [
  {
   "cell_type": "code",
   "execution_count": 4,
   "metadata": {
    "collapsed": false,
    "jupyter": {
     "outputs_hidden": false
    }
   },
   "outputs": [],
   "source": [
    "import datrie\n",
    "from collections import defaultdict"
   ]
  },
  {
   "cell_type": "code",
   "execution_count": 5,
   "metadata": {
    "collapsed": true,
    "jupyter": {
     "outputs_hidden": true
    }
   },
   "outputs": [],
   "source": [
    "def invert_counts(d, sort=True, reverse=True):\n",
    "    i = {}\n",
    "    for (k, v) in d.items():\n",
    "        if k[0] == '_' or k == 'trait_names':\n",
    "            continue\n",
    "        i.setdefault(v, []).append(k)\n",
    "    if not sort:\n",
    "        return i\n",
    "    else:\n",
    "        keys = [ k for k in sorted(i.keys(), reverse=reverse) ]\n",
    "        return [ (key, value) for key in keys for value in i[key] ]\n",
    "\n",
    "class Stats(defaultdict):\n",
    "    def __init__(self, typename=int):\n",
    "        defaultdict.__init__(self, typename)\n",
    "\n",
    "    def __getattr__(self, name):\n",
    "        return self.__getitem__(name)\n",
    "\n",
    "    def __setattr__(self, name, value):\n",
    "        return self.__setitem__(name, value)\n",
    "\n",
    "    def keys(self):\n",
    "        return [\n",
    "            k for k in defaultdict.keys(self)\n",
    "                if k[0] != '_' and k != 'trait_names'\n",
    "        ]\n",
    "\n",
    "    def _to_dict(self):\n",
    "        return { k: self[k] for k in self.keys() }\n",
    "\n",
    "    def _to_json(self):\n",
    "        return json.dumps(self)\n",
    "\n",
    "    def _save(self, path):\n",
    "        with open(path, 'w') as f:\n",
    "            json.dump(f, self)\n",
    "\n",
    "    def _invert(self):\n",
    "        return invert_counts(self)\n",
    "\n",
    "class KeyedStats(Stats):\n",
    "    def __init__(self):\n",
    "        Stats.__init__(self, typename=lambda: Stats())\n",
    "\n",
    "    def _invert(self):\n",
    "        return { k: self[k]._invert() for k in self.keys() }"
   ]
  },
  {
   "cell_type": "code",
   "execution_count": 6,
   "metadata": {
    "collapsed": false,
    "jupyter": {
     "outputs_hidden": false
    }
   },
   "outputs": [],
   "source": [
    "from tqdm import tqdm"
   ]
  },
  {
   "cell_type": "code",
   "execution_count": 16,
   "metadata": {
    "collapsed": true,
    "jupyter": {
     "outputs_hidden": true
    }
   },
   "outputs": [],
   "source": [
    "import string\n",
    "import pickle"
   ]
  },
  {
   "cell_type": "code",
   "execution_count": 8,
   "metadata": {
    "collapsed": true,
    "jupyter": {
     "outputs_hidden": true
    }
   },
   "outputs": [],
   "source": [
    "allowed = (\n",
    "    string.printable +\n",
    "    string.punctuation\n",
    ")"
   ]
  },
  {
   "cell_type": "code",
   "execution_count": 9,
   "metadata": {
    "collapsed": true,
    "jupyter": {
     "outputs_hidden": true
    }
   },
   "outputs": [],
   "source": [
    "pagecounts_filename = 'en-pagecounts-20150205-150000.txt'"
   ]
  },
  {
   "cell_type": "code",
   "execution_count": 10,
   "metadata": {
    "collapsed": true,
    "jupyter": {
     "outputs_hidden": true
    }
   },
   "outputs": [],
   "source": [
    "#num_lines = !wc -l en-pagecounts-20150205-150000.txt\n",
    "num_lines = 823008"
   ]
  },
  {
   "cell_type": "code",
   "execution_count": 11,
   "metadata": {
    "collapsed": true,
    "jupyter": {
     "outputs_hidden": true
    }
   },
   "outputs": [],
   "source": [
    "freq_titles_trie = datrie.BaseTrie(allowed)\n",
    "freq_stats = Stats()"
   ]
  },
  {
   "cell_type": "code",
   "execution_count": 12,
   "metadata": {
    "collapsed": true,
    "jupyter": {
     "outputs_hidden": true
    }
   },
   "outputs": [],
   "source": [
    "duplicates = 0\n",
    "max_failed = 10\n",
    "failed = []\n",
    "def process(trie, stats, filename):\n",
    "    with open(filename, 'rb') as f:\n",
    "        for bytes_line in tqdm(f, total=num_lines, leave=True):\n",
    "            try:\n",
    "                line = bytes_line.decode('utf-8', 'replace')\n",
    "                (title, freq) = line.split('\\t')\n",
    "                freq = int(freq)\n",
    "                stats[freq] += 1\n",
    "                if title in trie:\n",
    "                    if trie[title] > 1:\n",
    "                        duplicates += 1\n",
    "                        continue\n",
    "                trie[title] = freq\n",
    "\n",
    "                lower_title = title.lower()\n",
    "                if lower_title not in trie:\n",
    "                    trie[lower_title] = -freq\n",
    "            except Exception as e:\n",
    "                failed.append((e, line))\n",
    "                if len(failed) >= max_failed:\n",
    "                    raise"
   ]
  },
  {
   "cell_type": "code",
   "execution_count": 13,
   "metadata": {
    "collapsed": false,
    "jupyter": {
     "outputs_hidden": false
    }
   },
   "outputs": [
    {
     "name": "stdout",
     "output_type": "stream",
     "text": [
      "|##########| 823008/823008 100% [elapsed: 04:01 left: 00:00, 3403.75 iters/sec]"
     ]
    }
   ],
   "source": [
    "process(freq_titles_trie, freq_stats, pagecounts_filename)"
   ]
  },
  {
   "cell_type": "code",
   "execution_count": 14,
   "metadata": {
    "collapsed": false,
    "jupyter": {
     "outputs_hidden": false
    }
   },
   "outputs": [
    {
     "data": {
      "text/plain": [
       "1629361"
      ]
     },
     "execution_count": 14,
     "metadata": {},
     "output_type": "execute_result"
    }
   ],
   "source": [
    "len(freq_titles_trie)"
   ]
  },
  {
   "cell_type": "code",
   "execution_count": 15,
   "metadata": {
    "collapsed": true,
    "jupyter": {
     "outputs_hidden": true
    }
   },
   "outputs": [],
   "source": [
    "freq_titles_trie.save('freq_titles.trie')"
   ]
  },
  {
   "cell_type": "code",
   "execution_count": 19,
   "metadata": {
    "collapsed": true,
    "jupyter": {
     "outputs_hidden": true
    }
   },
   "outputs": [],
   "source": [
    "t = freq_titles_trie"
   ]
  },
  {
   "cell_type": "code",
   "execution_count": 23,
   "metadata": {
    "collapsed": true,
    "jupyter": {
     "outputs_hidden": true
    }
   },
   "outputs": [],
   "source": [
    "ft1 = datrie.Trie(allowed)"
   ]
  },
  {
   "cell_type": "code",
   "execution_count": 24,
   "metadata": {
    "collapsed": false,
    "jupyter": {
     "outputs_hidden": false
    }
   },
   "outputs": [
    {
     "name": "stdout",
     "output_type": "stream",
     "text": [
      "|##########| 132/132 100% [elapsed: 00:03 left: 00:00, 40.65 iters/sec]"
     ]
    }
   ],
   "source": [
    "for c in tqdm(allowed, total=len(allowed), leave=True):\n",
    "    if c not in t:\n",
    "        continue\n",
    "    l = t.items(c)\n",
    "    l.sort(key=lambda e: e[1], reverse=True)\n",
    "    ft1[c] = l"
   ]
  },
  {
   "cell_type": "code",
   "execution_count": 25,
   "metadata": {
    "collapsed": true,
    "jupyter": {
     "outputs_hidden": true
    }
   },
   "outputs": [],
   "source": [
    "ft1.save('freq_titles_1c.trie')"
   ]
  },
  {
   "cell_type": "code",
   "execution_count": 26,
   "metadata": {
    "collapsed": true,
    "jupyter": {
     "outputs_hidden": true
    }
   },
   "outputs": [],
   "source": [
    "ft2 = datrie.Trie(allowed)"
   ]
  },
  {
   "cell_type": "code",
   "execution_count": 27,
   "metadata": {
    "collapsed": false,
    "jupyter": {
     "outputs_hidden": false
    }
   },
   "outputs": [
    {
     "name": "stdout",
     "output_type": "stream",
     "text": [
      "|##########| 132/132 100% [elapsed: 00:02 left: 00:00, 50.13 iters/sec]"
     ]
    }
   ],
   "source": [
    "for c1 in tqdm(allowed, total=len(allowed), leave=True):\n",
    "    for c2 in allowed:\n",
    "        k = c1 + c2\n",
    "        if k not in t:\n",
    "            continue\n",
    "        l = t.items(k)\n",
    "        l.sort(key=lambda e: e[1], reverse=True)\n",
    "        ft2[k] = l\n",
    "        "
   ]
  },
  {
   "cell_type": "code",
   "execution_count": 28,
   "metadata": {
    "collapsed": false,
    "jupyter": {
     "outputs_hidden": false
    }
   },
   "outputs": [
    {
     "data": {
      "text/plain": [
       "1350"
      ]
     },
     "execution_count": 28,
     "metadata": {},
     "output_type": "execute_result"
    }
   ],
   "source": [
    "len(ft2)"
   ]
  },
  {
   "cell_type": "code",
   "execution_count": 29,
   "metadata": {
    "collapsed": true,
    "jupyter": {
     "outputs_hidden": true
    }
   },
   "outputs": [],
   "source": [
    "ft2.save('freq_titles_2c.trie')"
   ]
  },
  {
   "cell_type": "code",
   "execution_count": 30,
   "metadata": {
    "collapsed": true,
    "jupyter": {
     "outputs_hidden": true
    }
   },
   "outputs": [],
   "source": [
    "ft3 = datrie.Trie(allowed)"
   ]
  },
  {
   "cell_type": "code",
   "execution_count": 31,
   "metadata": {
    "collapsed": false,
    "jupyter": {
     "outputs_hidden": false
    }
   },
   "outputs": [
    {
     "name": "stdout",
     "output_type": "stream",
     "text": [
      "|##########| 132/132 100% [elapsed: 00:02 left: 00:00, 47.69 iters/sec]"
     ]
    }
   ],
   "source": [
    "for c1 in tqdm(allowed, total=len(allowed), leave=True):\n",
    "    for c2 in allowed:\n",
    "        for c3 in allowed:\n",
    "            k = ''.join((c1, c2, c3))\n",
    "            if k not in t:\n",
    "                continue\n",
    "            l = t.items(k)\n",
    "            l.sort(key=lambda e: e[1], reverse=True)\n",
    "            ft3[k] = l\n"
   ]
  },
  {
   "cell_type": "code",
   "execution_count": 32,
   "metadata": {
    "collapsed": true,
    "jupyter": {
     "outputs_hidden": true
    }
   },
   "outputs": [],
   "source": [
    "ft3.save('freq_titles_3c.trie')"
   ]
  },
  {
   "cell_type": "code",
   "execution_count": 33,
   "metadata": {
    "collapsed": false,
    "jupyter": {
     "outputs_hidden": false
    }
   },
   "outputs": [
    {
     "name": "stdout",
     "output_type": "stream",
     "text": [
      "|##########| 132/132 100% [elapsed: 01:41 left: 00:00,  1.30 iters/sec]"
     ]
    }
   ],
   "source": [
    "ft4 = datrie.Trie(allowed)\n",
    "for c1 in tqdm(allowed, total=len(allowed), leave=True):\n",
    "    for c2 in allowed:\n",
    "        for c3 in allowed:\n",
    "            for c4 in allowed:\n",
    "                k = ''.join((c1, c2, c3, c4))\n",
    "                if k not in t:\n",
    "                    continue\n",
    "                l = t.items(k)\n",
    "                l.sort(key=lambda e: e[1], reverse=True)\n",
    "                ft4[k] = l\n",
    "\n"
   ]
  },
  {
   "cell_type": "code",
   "execution_count": 34,
   "metadata": {
    "collapsed": true,
    "jupyter": {
     "outputs_hidden": true
    }
   },
   "outputs": [],
   "source": [
    "ft4.save('freq_titles_4c.trie')"
   ]
  },
  {
   "cell_type": "code",
   "execution_count": 36,
   "metadata": {
    "collapsed": true,
    "jupyter": {
     "outputs_hidden": true
    }
   },
   "outputs": [],
   "source": [
    "keys = ft4.keys()"
   ]
  },
  {
   "cell_type": "code",
   "execution_count": 37,
   "metadata": {
    "collapsed": false,
    "jupyter": {
     "outputs_hidden": false
    }
   },
   "outputs": [
    {
     "data": {
      "text/plain": [
       "16969"
      ]
     },
     "execution_count": 37,
     "metadata": {},
     "output_type": "execute_result"
    }
   ],
   "source": [
    "len(keys)"
   ]
  },
  {
   "cell_type": "code",
   "execution_count": 38,
   "metadata": {
    "collapsed": true,
    "jupyter": {
     "outputs_hidden": true
    }
   },
   "outputs": [],
   "source": [
    "keys.sort()"
   ]
  },
  {
   "cell_type": "code",
   "execution_count": 39,
   "metadata": {
    "collapsed": false,
    "jupyter": {
     "outputs_hidden": false
    }
   },
   "outputs": [
    {
     "name": "stdout",
     "output_type": "stream",
     "text": [
      "|##########| 16969/16969 100% [elapsed: 00:00 left: 00:00, 18033.00 iters/sec]"
     ]
    }
   ],
   "source": [
    "ft5 = datrie.Trie(allowed)\n",
    "for c1c2c3c4 in tqdm(keys, total=len(keys), leave=True):\n",
    "    for c5 in allowed:\n",
    "        k = c1c2c3c4 + c5\n",
    "        if k not in t:\n",
    "            continue\n",
    "        l = t.items(k)\n",
    "        l.sort(key=lambda e: e[1], reverse=True)\n",
    "        ft5[k] = l\n"
   ]
  },
  {
   "cell_type": "code",
   "execution_count": 41,
   "metadata": {
    "collapsed": true,
    "jupyter": {
     "outputs_hidden": true
    }
   },
   "outputs": [],
   "source": [
    "ft5.save('freq_titles_5c.trie')"
   ]
  },
  {
   "cell_type": "code",
   "execution_count": 45,
   "metadata": {
    "collapsed": true,
    "jupyter": {
     "outputs_hidden": true
    }
   },
   "outputs": [],
   "source": [
    "keys = ft5.keys()"
   ]
  },
  {
   "cell_type": "code",
   "execution_count": 47,
   "metadata": {
    "collapsed": false,
    "jupyter": {
     "outputs_hidden": false
    }
   },
   "outputs": [
    {
     "name": "stdout",
     "output_type": "stream",
     "text": [
      "|##########| 4691/4691 100% [elapsed: 00:00 left: 00:00, 20305.96 iters/sec]"
     ]
    }
   ],
   "source": [
    "ft6 = datrie.Trie(allowed)\n",
    "for c1c2c3c4c5 in tqdm(keys, total=len(keys), leave=True):\n",
    "    for c6 in allowed:\n",
    "        k = c1c2c3c4c5 + c6\n",
    "        if k not in t:\n",
    "            continue\n",
    "        l = t.items(k)\n",
    "        l.sort(key=lambda e: e[1], reverse=True)\n",
    "        ft6[k] = l\n"
   ]
  },
  {
   "cell_type": "code",
   "execution_count": 49,
   "metadata": {
    "collapsed": true,
    "jupyter": {
     "outputs_hidden": true
    }
   },
   "outputs": [],
   "source": [
    "ft6.save('freq_titles_6c.trie')"
   ]
  },
  {
   "cell_type": "code",
   "execution_count": 50,
   "metadata": {
    "collapsed": false,
    "jupyter": {
     "outputs_hidden": false
    }
   },
   "outputs": [
    {
     "data": {
      "text/plain": [
       "1350"
      ]
     },
     "execution_count": 50,
     "metadata": {},
     "output_type": "execute_result"
    }
   ],
   "source": [
    "len(ft2)"
   ]
  },
  {
   "cell_type": "code",
   "execution_count": 51,
   "metadata": {
    "collapsed": false,
    "jupyter": {
     "outputs_hidden": false
    }
   },
   "outputs": [
    {
     "data": {
      "text/plain": [
       "72"
      ]
     },
     "execution_count": 51,
     "metadata": {},
     "output_type": "execute_result"
    }
   ],
   "source": [
    "len(ft1)"
   ]
  },
  {
   "cell_type": "code",
   "execution_count": 52,
   "metadata": {
    "collapsed": false,
    "jupyter": {
     "outputs_hidden": false
    }
   },
   "outputs": [
    {
     "data": {
      "text/plain": [
       "[('!!!', 18),\n",
       " ('!!Destroy-Oh-Boy!!', 6),\n",
       " ('!!!Fuck You!!! and Then Some', 5),\n",
       " ('! (disambiguation)', 3),\n",
       " ('!', 2),\n",
       " ('!!! (album)', 2),\n",
       " ('!!!fuck you!!! and then some', -5),\n",
       " ('!!destroy-oh-boy!!', -6)]"
      ]
     },
     "execution_count": 52,
     "metadata": {},
     "output_type": "execute_result"
    }
   ],
   "source": [
    "ft1['!']"
   ]
  },
  {
   "cell_type": "code",
   "execution_count": 54,
   "metadata": {
    "collapsed": false,
    "jupyter": {
     "outputs_hidden": false
    }
   },
   "outputs": [
    {
     "ename": "KeyError",
     "evalue": "'IOCP'",
     "output_type": "error",
     "traceback": [
      "\u001b[1;31m---------------------------------------------------------------------------\u001b[0m",
      "\u001b[1;31mKeyError\u001b[0m                                  Traceback (most recent call last)",
      "\u001b[1;32m<ipython-input-54-063cd5b364ff>\u001b[0m in \u001b[0;36m<module>\u001b[1;34m()\u001b[0m\n\u001b[1;32m----> 1\u001b[1;33m \u001b[0mft4\u001b[0m\u001b[1;33m[\u001b[0m\u001b[1;34m'IOCP'\u001b[0m\u001b[1;33m]\u001b[0m\u001b[1;33m\u001b[0m\u001b[0m\n\u001b[0m",
      "\u001b[1;32mdatrie.pyx\u001b[0m in \u001b[0;36mdatrie.Trie.__getitem__ (src/datrie.c:9076)\u001b[1;34m()\u001b[0m\n",
      "\u001b[1;32mdatrie.pyx\u001b[0m in \u001b[0;36mdatrie.BaseTrie._getitem (src/datrie.c:3272)\u001b[1;34m()\u001b[0m\n",
      "\u001b[1;31mKeyError\u001b[0m: 'IOCP'"
     ]
    }
   ],
   "source": [
    "ft4['IOCP']"
   ]
  },
  {
   "cell_type": "code",
   "execution_count": null,
   "metadata": {
    "collapsed": true,
    "jupyter": {
     "outputs_hidden": true
    }
   },
   "outputs": [],
   "source": []
  }
 ],
 "metadata": {
  "kernelspec": {
   "display_name": "Python 3 (ipykernel)",
   "language": "python",
   "name": "python3"
  },
  "language_info": {
   "codemirror_mode": {
    "name": "ipython",
    "version": 3
   },
   "file_extension": ".py",
   "mimetype": "text/x-python",
   "name": "python",
   "nbconvert_exporter": "python",
   "pygments_lexer": "ipython3",
   "version": "3.13.1"
  }
 },
 "nbformat": 4,
 "nbformat_minor": 4
}
